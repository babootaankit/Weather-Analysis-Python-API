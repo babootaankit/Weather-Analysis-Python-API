{
 "cells": [
  {
   "cell_type": "markdown",
   "metadata": {},
   "source": [
    "# WeatherPy\n",
    "----\n",
    "\n",
    "#### Note\n",
    "* Instructions have been included for each segment. You do not have to follow them exactly, but they are included to help you think through the steps."
   ]
  },
  {
   "cell_type": "code",
   "execution_count": 2,
   "metadata": {
    "scrolled": true
   },
   "outputs": [],
   "source": [
    "# Dependencies and Setup\n",
    "import matplotlib.pyplot as plt\n",
    "import pandas as pd\n",
    "import numpy as np\n",
    "import requests\n",
    "import time\n",
    "from scipy.stats import linregress\n",
    "import json\n",
    "\n",
    "# Import API key\n",
    "from config import weather_api_key\n",
    "units = \"imperial\"\n",
    "\n",
    "# Incorporated citipy to determine city based on latitude and longitude\n",
    "from citipy import citipy\n",
    "\n",
    "# Output File (CSV)\n",
    "output_data_file = \"output_data/cities.csv\"\n",
    "\n",
    "# Range of latitudes and longitudes\n",
    "lat_range = (-90, 90)\n",
    "lng_range = (-180, 180)\n",
    "\n",
    "query_url = f\"http://api.openweathermap.org/data/2.5/weather?appid={weather_api_key}&units={units}&q=\""
   ]
  },
  {
   "cell_type": "code",
   "execution_count": 3,
   "metadata": {},
   "outputs": [
    {
     "name": "stdout",
     "output_type": "stream",
     "text": [
      "<module 'citipy.citipy' from 'C:\\\\Users\\\\baboo\\\\anaconda3\\\\lib\\\\site-packages\\\\citipy\\\\citipy.py'>\n",
      "output_data/cities.csv\n"
     ]
    }
   ],
   "source": [
    "print(citipy)\n",
    "print(output_data_file)"
   ]
  },
  {
   "cell_type": "markdown",
   "metadata": {},
   "source": [
    "## Generate Cities List"
   ]
  },
  {
   "cell_type": "code",
   "execution_count": 4,
   "metadata": {},
   "outputs": [
    {
     "data": {
      "text/plain": [
       "604"
      ]
     },
     "execution_count": 4,
     "metadata": {},
     "output_type": "execute_result"
    }
   ],
   "source": [
    "# List for holding lat_lngs and cities\n",
    "lat_lngs = []\n",
    "cities = []\n",
    "\n",
    "# Create a set of random lat and lng combinations\n",
    "lats = np.random.uniform(lat_range[0], lat_range[1], size=1500)\n",
    "lngs = np.random.uniform(lng_range[0], lng_range[1], size=1500)\n",
    "lat_lngs = zip(lats, lngs)\n",
    "\n",
    "# Identify nearest city for each lat, lng combination\n",
    "for lat_lng in lat_lngs:\n",
    "    city = citipy.nearest_city(lat_lng[0], lat_lng[1]).city_name\n",
    "    \n",
    "    # If the city is unique, then add it to a our cities list\n",
    "    if city not in cities:\n",
    "        cities.append(city)\n",
    "\n",
    "# Print the city count to confirm sufficient count\n",
    "len(cities)"
   ]
  },
  {
   "cell_type": "code",
   "execution_count": 5,
   "metadata": {},
   "outputs": [
    {
     "name": "stdout",
     "output_type": "stream",
     "text": [
      "{\n",
      "    \"base\": \"stations\",\n",
      "    \"clouds\": {\n",
      "        \"all\": 20\n",
      "    },\n",
      "    \"cod\": 200,\n",
      "    \"coord\": {\n",
      "        \"lat\": 22.08,\n",
      "        \"lon\": -159.32\n",
      "    },\n",
      "    \"dt\": 1593557704,\n",
      "    \"id\": 5848280,\n",
      "    \"main\": {\n",
      "        \"feels_like\": 84.38,\n",
      "        \"humidity\": 66,\n",
      "        \"pressure\": 1017,\n",
      "        \"temp\": 82.96,\n",
      "        \"temp_max\": 84.2,\n",
      "        \"temp_min\": 82\n",
      "    },\n",
      "    \"name\": \"Kapaa\",\n",
      "    \"sys\": {\n",
      "        \"country\": \"US\",\n",
      "        \"id\": 7873,\n",
      "        \"sunrise\": 1593532626,\n",
      "        \"sunset\": 1593581088,\n",
      "        \"type\": 1\n",
      "    },\n",
      "    \"timezone\": -36000,\n",
      "    \"visibility\": 16093,\n",
      "    \"weather\": [\n",
      "        {\n",
      "            \"description\": \"few clouds\",\n",
      "            \"icon\": \"02d\",\n",
      "            \"id\": 801,\n",
      "            \"main\": \"Clouds\"\n",
      "        }\n",
      "    ],\n",
      "    \"wind\": {\n",
      "        \"deg\": 70,\n",
      "        \"speed\": 11.41\n",
      "    }\n",
      "}\n"
     ]
    }
   ],
   "source": [
    "response = requests.get(query_url + city.replace(\" \",\"&\")).json()\n",
    "print(json.dumps(response, indent=4, sort_keys=True))"
   ]
  },
  {
   "cell_type": "markdown",
   "metadata": {},
   "source": [
    "### Perform API Calls\n",
    "* Perform a weather check on each city using a series of successive API calls.\n",
    "* Include a print log of each city as it'sbeing processed (with the city number and city name).\n"
   ]
  },
  {
   "cell_type": "code",
   "execution_count": 5,
   "metadata": {},
   "outputs": [
    {
     "name": "stdout",
     "output_type": "stream",
     "text": [
      "Processing Record 1 of Set 1 | rikitea\n",
      "Processing Record 2 of Set 1 | luderitz\n",
      "Processing Record 3 of Set 1 | qaanaaq\n",
      "Processing Record 4 of Set 1 | bluff\n",
      "Processing Record 5 of Set 1 | sur\n",
      "Processing Record 6 of Set 1 | riyadh\n",
      "Processing Record 7 of Set 1 | busselton\n",
      "Processing Record 8 of Set 1 | kruisfontein\n",
      "City not found. Skipping...\n",
      "Processing Record 9 of Set 1 | hermanus\n",
      "Processing Record 10 of Set 1 | langsa\n",
      "Processing Record 11 of Set 1 | uruzgan\n",
      "Processing Record 12 of Set 1 | hilo\n",
      "Processing Record 13 of Set 1 | flinders\n",
      "Processing Record 14 of Set 1 | coquimbo\n",
      "Processing Record 15 of Set 1 | karatu\n",
      "Processing Record 16 of Set 1 | tuktoyaktuk\n",
      "Processing Record 17 of Set 1 | cape town\n",
      "Processing Record 18 of Set 1 | phek\n",
      "Processing Record 19 of Set 1 | nikolskoye\n",
      "Processing Record 20 of Set 1 | tiksi\n",
      "Processing Record 21 of Set 1 | ponta do sol\n",
      "Processing Record 22 of Set 1 | batticaloa\n",
      "City not found. Skipping...\n",
      "City not found. Skipping...\n",
      "Processing Record 23 of Set 1 | opuwo\n",
      "Processing Record 24 of Set 1 | bac lieu\n",
      "Processing Record 25 of Set 1 | carutapera\n",
      "Processing Record 26 of Set 1 | jamestown\n",
      "Processing Record 27 of Set 1 | faya\n",
      "Processing Record 28 of Set 1 | bethel\n",
      "City not found. Skipping...\n",
      "Processing Record 29 of Set 1 | souillac\n",
      "City not found. Skipping...\n",
      "Processing Record 30 of Set 1 | acarau\n",
      "Processing Record 31 of Set 1 | wasserburg\n",
      "Processing Record 32 of Set 1 | bredasdorp\n",
      "Processing Record 33 of Set 1 | davila\n",
      "Processing Record 34 of Set 1 | yazman\n",
      "Processing Record 35 of Set 1 | mys shmidta\n",
      "Processing Record 36 of Set 1 | buckeye\n",
      "Processing Record 37 of Set 1 | taman\n",
      "Processing Record 38 of Set 1 | emerald\n",
      "Processing Record 39 of Set 1 | yellowknife\n",
      "Processing Record 40 of Set 1 | lorengau\n",
      "Processing Record 41 of Set 1 | berlevag\n",
      "Processing Record 42 of Set 1 | atuona\n",
      "Processing Record 43 of Set 1 | khatanga\n",
      "Processing Record 44 of Set 1 | albany\n",
      "Processing Record 45 of Set 1 | grand river south east\n",
      "Processing Record 46 of Set 1 | puerto ayora\n",
      "City not found. Skipping...\n",
      "Processing Record 47 of Set 1 | chuy\n",
      "Processing Record 48 of Set 1 | avoch\n",
      "Processing Record 49 of Set 1 | geraldton\n",
      "Processing Record 1 of Set 2 | vanimo\n",
      "Processing Record 2 of Set 2 | beringovskiy\n",
      "City not found. Skipping...\n",
      "Processing Record 3 of Set 2 | elko\n",
      "Processing Record 4 of Set 2 | saskylakh\n",
      "Processing Record 5 of Set 2 | esperance\n",
      "Processing Record 6 of Set 2 | ushuaia\n",
      "Processing Record 7 of Set 2 | hobart\n",
      "City not found. Skipping...\n",
      "Processing Record 8 of Set 2 | mataura\n",
      "Processing Record 9 of Set 2 | codrington\n",
      "Processing Record 10 of Set 2 | sola\n",
      "Processing Record 11 of Set 2 | ekibastuz\n",
      "Processing Record 12 of Set 2 | hualmay\n",
      "Processing Record 13 of Set 2 | akdepe\n",
      "Processing Record 14 of Set 2 | punta arenas\n",
      "Processing Record 15 of Set 2 | arraial do cabo\n",
      "Processing Record 16 of Set 2 | port elizabeth\n",
      "Processing Record 17 of Set 2 | port lincoln\n",
      "Processing Record 18 of Set 2 | ketchikan\n",
      "Processing Record 19 of Set 2 | cabo san lucas\n",
      "Processing Record 20 of Set 2 | provideniya\n",
      "City not found. Skipping...\n",
      "Processing Record 21 of Set 2 | lazurne\n",
      "Processing Record 22 of Set 2 | bambous virieux\n",
      "Processing Record 23 of Set 2 | nelson bay\n",
      "Processing Record 24 of Set 2 | soure\n",
      "Processing Record 25 of Set 2 | tasiilaq\n",
      "Processing Record 26 of Set 2 | coihaique\n",
      "Processing Record 27 of Set 2 | butaritari\n",
      "Processing Record 28 of Set 2 | samarai\n",
      "Processing Record 29 of Set 2 | barrow\n",
      "Processing Record 30 of Set 2 | naze\n",
      "City not found. Skipping...\n",
      "Processing Record 31 of Set 2 | marfino\n",
      "City not found. Skipping...\n",
      "Processing Record 32 of Set 2 | severo-kurilsk\n",
      "Processing Record 33 of Set 2 | havelock\n",
      "Processing Record 34 of Set 2 | new norfolk\n",
      "Processing Record 35 of Set 2 | sakakah\n",
      "Processing Record 36 of Set 2 | rudnichnyy\n",
      "City not found. Skipping...\n",
      "Processing Record 37 of Set 2 | castro\n",
      "Processing Record 38 of Set 2 | kapaa\n",
      "City not found. Skipping...\n",
      "Processing Record 39 of Set 2 | cidreira\n",
      "Processing Record 40 of Set 2 | tuatapere\n",
      "Processing Record 41 of Set 2 | thompson\n",
      "Processing Record 42 of Set 2 | bilibino\n",
      "Processing Record 43 of Set 2 | mahon\n",
      "Processing Record 44 of Set 2 | santa cruz cabralia\n",
      "Processing Record 45 of Set 2 | chaah\n",
      "Processing Record 46 of Set 2 | vostochnyy\n",
      "Processing Record 47 of Set 2 | kargil\n",
      "Processing Record 48 of Set 2 | bandarbeyla\n",
      "Processing Record 49 of Set 2 | awbari\n",
      "City not found. Skipping...\n",
      "Processing Record 1 of Set 3 | padang\n",
      "Processing Record 2 of Set 3 | artyom\n",
      "Processing Record 3 of Set 3 | zavodskoy\n",
      "City not found. Skipping...\n",
      "Processing Record 4 of Set 3 | bambanglipuro\n",
      "Processing Record 5 of Set 3 | saldanha\n",
      "Processing Record 6 of Set 3 | avarua\n",
      "Processing Record 7 of Set 3 | norman wells\n",
      "Processing Record 8 of Set 3 | krasnoselkup\n",
      "Processing Record 9 of Set 3 | mareeba\n",
      "Processing Record 10 of Set 3 | teahupoo\n",
      "Processing Record 11 of Set 3 | ribeira grande\n",
      "Processing Record 12 of Set 3 | kulachi\n",
      "Processing Record 13 of Set 3 | yerbogachen\n",
      "Processing Record 14 of Set 3 | cherskiy\n",
      "Processing Record 15 of Set 3 | vilcun\n",
      "Processing Record 16 of Set 3 | ilulissat\n",
      "City not found. Skipping...\n",
      "Processing Record 17 of Set 3 | sterling\n",
      "Processing Record 18 of Set 3 | vestmannaeyjar\n",
      "Processing Record 19 of Set 3 | teya\n",
      "Processing Record 20 of Set 3 | kimberley\n",
      "Processing Record 21 of Set 3 | vanavara\n",
      "Processing Record 22 of Set 3 | raudeberg\n",
      "Processing Record 23 of Set 3 | lebu\n",
      "Processing Record 24 of Set 3 | port alfred\n",
      "Processing Record 25 of Set 3 | aykhal\n",
      "Processing Record 26 of Set 3 | georgetown\n",
      "Processing Record 27 of Set 3 | sinnamary\n",
      "Processing Record 28 of Set 3 | allende\n",
      "Processing Record 29 of Set 3 | namatanai\n",
      "Processing Record 30 of Set 3 | kaitangata\n",
      "Processing Record 31 of Set 3 | vallenar\n",
      "City not found. Skipping...\n",
      "Processing Record 32 of Set 3 | sheridan\n",
      "Processing Record 33 of Set 3 | fairbanks\n",
      "Processing Record 34 of Set 3 | tual\n",
      "Processing Record 35 of Set 3 | vaini\n",
      "Processing Record 36 of Set 3 | clyde river\n",
      "Processing Record 37 of Set 3 | odessa\n",
      "Processing Record 38 of Set 3 | santa cruz de la palma\n",
      "City not found. Skipping...\n",
      "Processing Record 39 of Set 3 | sobolevo\n",
      "Processing Record 40 of Set 3 | kitimat\n",
      "Processing Record 41 of Set 3 | airai\n",
      "Processing Record 42 of Set 3 | east london\n",
      "Processing Record 43 of Set 3 | zaton\n",
      "Processing Record 44 of Set 3 | manono\n",
      "Processing Record 45 of Set 3 | fortuna\n",
      "Processing Record 46 of Set 3 | shimoda\n",
      "Processing Record 47 of Set 3 | amarkantak\n",
      "Processing Record 48 of Set 3 | arlit\n",
      "Processing Record 49 of Set 3 | vila franca do campo\n",
      "Processing Record 1 of Set 4 | haines junction\n",
      "Processing Record 2 of Set 4 | meulaboh\n",
      "Processing Record 3 of Set 4 | bonthe\n",
      "Processing Record 4 of Set 4 | piranshahr\n",
      "Processing Record 5 of Set 4 | pareora\n",
      "Processing Record 6 of Set 4 | chapais\n",
      "Processing Record 7 of Set 4 | sitka\n",
      "Processing Record 8 of Set 4 | ojinaga\n",
      "Processing Record 9 of Set 4 | chokurdakh\n",
      "Processing Record 10 of Set 4 | lakshmipur\n",
      "City not found. Skipping...\n",
      "Processing Record 11 of Set 4 | hobyo\n",
      "Processing Record 12 of Set 4 | florianopolis\n",
      "Processing Record 13 of Set 4 | matagami\n",
      "Processing Record 14 of Set 4 | tshela\n",
      "Processing Record 15 of Set 4 | olinda\n",
      "Processing Record 16 of Set 4 | cockburn town\n",
      "Processing Record 17 of Set 4 | vozhega\n",
      "Processing Record 18 of Set 4 | inongo\n",
      "Processing Record 19 of Set 4 | paracuru\n",
      "City not found. Skipping...\n",
      "City not found. Skipping...\n",
      "Processing Record 20 of Set 4 | avera\n",
      "Processing Record 21 of Set 4 | dickinson\n",
      "Processing Record 22 of Set 4 | dikson\n",
      "City not found. Skipping...\n",
      "Processing Record 23 of Set 4 | constitucion\n",
      "Processing Record 24 of Set 4 | narsaq\n",
      "Processing Record 25 of Set 4 | fairview\n",
      "Processing Record 26 of Set 4 | saint-philippe\n",
      "Processing Record 27 of Set 4 | dubai\n",
      "Processing Record 28 of Set 4 | mandalgovi\n",
      "Processing Record 29 of Set 4 | udachnyy\n",
      "Processing Record 30 of Set 4 | faanui\n",
      "Processing Record 31 of Set 4 | anadyr\n",
      "Processing Record 32 of Set 4 | barcelos\n",
      "Processing Record 33 of Set 4 | oranjestad\n",
      "City not found. Skipping...\n",
      "Processing Record 34 of Set 4 | koygorodok\n",
      "City not found. Skipping...\n",
      "Processing Record 35 of Set 4 | namibe\n",
      "Processing Record 36 of Set 4 | klaksvik\n",
      "Processing Record 37 of Set 4 | kosmynino\n"
     ]
    },
    {
     "name": "stdout",
     "output_type": "stream",
     "text": [
      "Processing Record 38 of Set 4 | lompoc\n",
      "Processing Record 39 of Set 4 | husavik\n",
      "Processing Record 40 of Set 4 | lagoa\n",
      "Processing Record 41 of Set 4 | itarema\n",
      "Processing Record 42 of Set 4 | carnarvon\n",
      "Processing Record 43 of Set 4 | dingle\n",
      "Processing Record 44 of Set 4 | mandapam\n",
      "Processing Record 45 of Set 4 | aklavik\n",
      "Processing Record 46 of Set 4 | brae\n",
      "Processing Record 47 of Set 4 | vardo\n",
      "Processing Record 48 of Set 4 | alofi\n",
      "Processing Record 49 of Set 4 | lensk\n",
      "Processing Record 1 of Set 5 | balkanabat\n",
      "Processing Record 2 of Set 5 | bengkulu\n",
      "Processing Record 3 of Set 5 | zyryanka\n",
      "Processing Record 4 of Set 5 | yatou\n",
      "Processing Record 5 of Set 5 | nanakuli\n",
      "Processing Record 6 of Set 5 | prince rupert\n",
      "Processing Record 7 of Set 5 | crab hill\n",
      "Processing Record 8 of Set 5 | honningsvag\n",
      "Processing Record 9 of Set 5 | nanortalik\n",
      "City not found. Skipping...\n",
      "Processing Record 10 of Set 5 | madang\n",
      "Processing Record 11 of Set 5 | kalianget\n",
      "Processing Record 12 of Set 5 | mineros\n",
      "Processing Record 13 of Set 5 | santa rosa\n",
      "Processing Record 14 of Set 5 | yar-sale\n",
      "Processing Record 15 of Set 5 | sussex\n",
      "Processing Record 16 of Set 5 | hasaki\n",
      "Processing Record 17 of Set 5 | victoria\n",
      "Processing Record 18 of Set 5 | segou\n",
      "Processing Record 19 of Set 5 | port blair\n",
      "City not found. Skipping...\n",
      "Processing Record 20 of Set 5 | maldonado\n",
      "Processing Record 21 of Set 5 | ust-nera\n",
      "Processing Record 22 of Set 5 | santo tomas\n",
      "City not found. Skipping...\n",
      "Processing Record 23 of Set 5 | hargeysa\n",
      "Processing Record 24 of Set 5 | waverly\n",
      "Processing Record 25 of Set 5 | lasa\n",
      "Processing Record 26 of Set 5 | saint-denis\n",
      "Processing Record 27 of Set 5 | morro bay\n",
      "Processing Record 28 of Set 5 | talnakh\n",
      "Processing Record 29 of Set 5 | cayenne\n",
      "Processing Record 30 of Set 5 | kendari\n",
      "Processing Record 31 of Set 5 | touros\n",
      "Processing Record 32 of Set 5 | alvik\n",
      "Processing Record 33 of Set 5 | kiama\n",
      "Processing Record 34 of Set 5 | kavieng\n",
      "Processing Record 35 of Set 5 | pisco\n",
      "Processing Record 36 of Set 5 | chambersburg\n",
      "Processing Record 37 of Set 5 | hithadhoo\n",
      "Processing Record 38 of Set 5 | bundibugyo\n",
      "Processing Record 39 of Set 5 | acapulco\n",
      "Processing Record 40 of Set 5 | pingyin\n",
      "Processing Record 41 of Set 5 | harnosand\n",
      "Processing Record 42 of Set 5 | lac du bonnet\n",
      "Processing Record 43 of Set 5 | vila do maio\n",
      "Processing Record 44 of Set 5 | pozo colorado\n",
      "Processing Record 45 of Set 5 | baillif\n",
      "Processing Record 46 of Set 5 | dothan\n",
      "Processing Record 47 of Set 5 | necochea\n",
      "Processing Record 48 of Set 5 | datong\n",
      "City not found. Skipping...\n",
      "Processing Record 49 of Set 5 | guaruja\n",
      "Processing Record 1 of Set 6 | grindavik\n",
      "City not found. Skipping...\n",
      "Processing Record 2 of Set 6 | okhotsk\n",
      "Processing Record 3 of Set 6 | dunedin\n",
      "Processing Record 4 of Set 6 | koppal\n",
      "Processing Record 5 of Set 6 | tongchuan\n",
      "Processing Record 6 of Set 6 | kaduna\n",
      "Processing Record 7 of Set 6 | sisimiut\n",
      "Processing Record 8 of Set 6 | port hedland\n",
      "Processing Record 9 of Set 6 | bilma\n",
      "Processing Record 10 of Set 6 | mao\n",
      "Processing Record 11 of Set 6 | guerrero negro\n",
      "Processing Record 12 of Set 6 | bathsheba\n",
      "Processing Record 13 of Set 6 | san ramon\n",
      "City not found. Skipping...\n",
      "Processing Record 14 of Set 6 | itacarambi\n",
      "Processing Record 15 of Set 6 | havoysund\n",
      "Processing Record 16 of Set 6 | kabanjahe\n",
      "Processing Record 17 of Set 6 | hambantota\n",
      "Processing Record 18 of Set 6 | changping\n",
      "Processing Record 19 of Set 6 | gaoual\n",
      "Processing Record 20 of Set 6 | ayolas\n",
      "Processing Record 21 of Set 6 | marawi\n",
      "Processing Record 22 of Set 6 | salalah\n",
      "Processing Record 23 of Set 6 | port hardy\n",
      "Processing Record 24 of Set 6 | khandagayty\n",
      "Processing Record 25 of Set 6 | otavi\n",
      "City not found. Skipping...\n",
      "Processing Record 26 of Set 6 | kurchum\n",
      "Processing Record 27 of Set 6 | sao filipe\n",
      "Processing Record 28 of Set 6 | formosa do rio preto\n",
      "Processing Record 29 of Set 6 | aste\n",
      "Processing Record 30 of Set 6 | nouakchott\n",
      "Processing Record 31 of Set 6 | san cristobal\n",
      "Processing Record 32 of Set 6 | pacifica\n",
      "Processing Record 33 of Set 6 | adrar\n",
      "Processing Record 34 of Set 6 | bom despacho\n",
      "City not found. Skipping...\n",
      "Processing Record 35 of Set 6 | phuket\n",
      "City not found. Skipping...\n",
      "Processing Record 36 of Set 6 | turukhansk\n",
      "Processing Record 37 of Set 6 | mragowo\n",
      "Processing Record 38 of Set 6 | herat\n",
      "Processing Record 39 of Set 6 | grand-santi\n",
      "Processing Record 40 of Set 6 | valle de banderas\n",
      "City not found. Skipping...\n",
      "Processing Record 41 of Set 6 | kapoeta\n",
      "City not found. Skipping...\n",
      "Processing Record 42 of Set 6 | san patricio\n",
      "Processing Record 43 of Set 6 | mar del plata\n",
      "Processing Record 44 of Set 6 | snasa\n",
      "Processing Record 45 of Set 6 | nabire\n",
      "Processing Record 46 of Set 6 | kualakapuas\n",
      "Processing Record 47 of Set 6 | gizo\n",
      "Processing Record 48 of Set 6 | sorland\n",
      "Processing Record 49 of Set 6 | lodwar\n",
      "Processing Record 1 of Set 7 | celestun\n",
      "Processing Record 2 of Set 7 | draguignan\n",
      "Processing Record 3 of Set 7 | siuna\n",
      "Processing Record 4 of Set 7 | pacific grove\n",
      "Processing Record 5 of Set 7 | nome\n",
      "Processing Record 6 of Set 7 | ancud\n",
      "Processing Record 7 of Set 7 | lufilufi\n",
      "Processing Record 8 of Set 7 | trelew\n",
      "Processing Record 9 of Set 7 | lexington\n",
      "Processing Record 10 of Set 7 | kidal\n",
      "Processing Record 11 of Set 7 | itanhem\n",
      "City not found. Skipping...\n",
      "Processing Record 12 of Set 7 | pevek\n",
      "Processing Record 13 of Set 7 | ginir\n",
      "Processing Record 14 of Set 7 | temerloh\n",
      "Processing Record 15 of Set 7 | wuwei\n",
      "Processing Record 16 of Set 7 | never\n",
      "Processing Record 17 of Set 7 | pont-sainte-maxence\n",
      "Processing Record 18 of Set 7 | lubao\n",
      "Processing Record 19 of Set 7 | kodiak\n",
      "Processing Record 20 of Set 7 | mitsamiouli\n",
      "Processing Record 21 of Set 7 | bantry\n",
      "Processing Record 22 of Set 7 | antalaha\n",
      "Processing Record 23 of Set 7 | bodden town\n",
      "Processing Record 24 of Set 7 | dunmore town\n",
      "Processing Record 25 of Set 7 | zaysan\n",
      "Processing Record 26 of Set 7 | high prairie\n",
      "Processing Record 27 of Set 7 | yumen\n",
      "Processing Record 28 of Set 7 | noumea\n",
      "Processing Record 29 of Set 7 | launceston\n",
      "Processing Record 30 of Set 7 | yelatma\n",
      "Processing Record 31 of Set 7 | wajima\n",
      "Processing Record 32 of Set 7 | flin flon\n",
      "Processing Record 33 of Set 7 | upernavik\n",
      "Processing Record 34 of Set 7 | mogadishu\n",
      "Processing Record 35 of Set 7 | lakhisarai\n",
      "Processing Record 36 of Set 7 | jasdan\n",
      "Processing Record 37 of Set 7 | buraydah\n",
      "Processing Record 38 of Set 7 | bitkine\n",
      "Processing Record 39 of Set 7 | okha\n",
      "Processing Record 40 of Set 7 | goderich\n",
      "Processing Record 41 of Set 7 | isangel\n",
      "Processing Record 42 of Set 7 | hofn\n",
      "Processing Record 43 of Set 7 | santa maria\n",
      "Processing Record 44 of Set 7 | iralaya\n",
      "Processing Record 45 of Set 7 | torbay\n",
      "Processing Record 46 of Set 7 | bethanien\n",
      "Processing Record 47 of Set 7 | silver city\n",
      "Processing Record 48 of Set 7 | dongsheng\n",
      "Processing Record 49 of Set 7 | beja\n",
      "Processing Record 1 of Set 8 | pandan\n",
      "Processing Record 2 of Set 8 | sawakin\n",
      "Processing Record 3 of Set 8 | aire-sur-la-lys\n",
      "Processing Record 4 of Set 8 | maamba\n",
      "Processing Record 5 of Set 8 | kondinskoye\n",
      "Processing Record 6 of Set 8 | berdigestyakh\n",
      "City not found. Skipping...\n",
      "Processing Record 7 of Set 8 | makakilo city\n",
      "Processing Record 8 of Set 8 | ati\n",
      "City not found. Skipping...\n",
      "Processing Record 9 of Set 8 | tilichiki\n",
      "Processing Record 10 of Set 8 | longyearbyen\n",
      "Processing Record 11 of Set 8 | olden\n",
      "Processing Record 12 of Set 8 | dudinka\n",
      "Processing Record 13 of Set 8 | nahrin\n",
      "Processing Record 14 of Set 8 | kholm\n",
      "Processing Record 15 of Set 8 | praia da vitoria\n",
      "Processing Record 16 of Set 8 | ridgecrest\n",
      "Processing Record 17 of Set 8 | port hawkesbury\n",
      "Processing Record 18 of Set 8 | ballina\n",
      "Processing Record 19 of Set 8 | margate\n",
      "Processing Record 20 of Set 8 | kupang\n",
      "Processing Record 21 of Set 8 | srednekolymsk\n",
      "Processing Record 22 of Set 8 | deer lake\n",
      "Processing Record 23 of Set 8 | marsala\n",
      "Processing Record 24 of Set 8 | esna\n",
      "Processing Record 25 of Set 8 | rio grande da serra\n",
      "Processing Record 26 of Set 8 | yaan\n",
      "Processing Record 27 of Set 8 | richards bay\n",
      "Processing Record 28 of Set 8 | bowen\n",
      "Processing Record 29 of Set 8 | puerto escondido\n",
      "Processing Record 30 of Set 8 | iquitos\n",
      "City not found. Skipping...\n",
      "Processing Record 31 of Set 8 | baloda\n",
      "Processing Record 32 of Set 8 | romanovo\n",
      "City not found. Skipping...\n"
     ]
    },
    {
     "name": "stdout",
     "output_type": "stream",
     "text": [
      "Processing Record 33 of Set 8 | cabcab\n",
      "Processing Record 34 of Set 8 | cilegon\n",
      "Processing Record 35 of Set 8 | tutoia\n",
      "Processing Record 36 of Set 8 | saint-pierre\n",
      "Processing Record 37 of Set 8 | cabra\n",
      "Processing Record 38 of Set 8 | maneadero\n",
      "Processing Record 39 of Set 8 | kawana waters\n",
      "Processing Record 40 of Set 8 | sarkand\n",
      "Processing Record 41 of Set 8 | pishin\n",
      "Processing Record 42 of Set 8 | lata\n",
      "Processing Record 43 of Set 8 | erzin\n",
      "Processing Record 44 of Set 8 | tuburan\n",
      "City not found. Skipping...\n",
      "Processing Record 45 of Set 8 | cabedelo\n",
      "City not found. Skipping...\n",
      "Processing Record 46 of Set 8 | linxia\n",
      "Processing Record 47 of Set 8 | pringsewu\n",
      "Processing Record 48 of Set 8 | laranjeiras\n",
      "Processing Record 49 of Set 8 | nagutskoye\n",
      "Processing Record 1 of Set 9 | pangnirtung\n",
      "Processing Record 2 of Set 9 | bailleul\n",
      "Processing Record 3 of Set 9 | matay\n",
      "Processing Record 4 of Set 9 | mudanjiang\n",
      "Processing Record 5 of Set 9 | temir\n",
      "Processing Record 6 of Set 9 | kulhudhuffushi\n",
      "Processing Record 7 of Set 9 | kibala\n",
      "Processing Record 8 of Set 9 | mountain home\n",
      "Processing Record 9 of Set 9 | quebo\n",
      "Processing Record 10 of Set 9 | katsuura\n",
      "Processing Record 11 of Set 9 | sakyla\n",
      "Processing Record 12 of Set 9 | chipinge\n",
      "Processing Record 13 of Set 9 | talara\n",
      "Processing Record 14 of Set 9 | ambon\n",
      "Processing Record 15 of Set 9 | mount gambier\n",
      "Processing Record 16 of Set 9 | rocha\n",
      "City not found. Skipping...\n",
      "Processing Record 17 of Set 9 | ahipara\n",
      "Processing Record 18 of Set 9 | biratnagar\n",
      "Processing Record 19 of Set 9 | vila\n",
      "Processing Record 20 of Set 9 | emba\n",
      "Processing Record 21 of Set 9 | mahebourg\n",
      "Processing Record 22 of Set 9 | nyurba\n",
      "Processing Record 23 of Set 9 | komsomolskiy\n",
      "Processing Record 24 of Set 9 | oranjemund\n",
      "Processing Record 25 of Set 9 | rokupr\n",
      "Processing Record 26 of Set 9 | abu samrah\n",
      "City not found. Skipping...\n",
      "Processing Record 27 of Set 9 | gushikawa\n",
      "City not found. Skipping...\n",
      "Processing Record 28 of Set 9 | rorvik\n",
      "Processing Record 29 of Set 9 | warrington\n",
      "Processing Record 30 of Set 9 | shemonaikha\n",
      "Processing Record 31 of Set 9 | kota kinabalu\n",
      "Processing Record 32 of Set 9 | san diego de los banos\n",
      "Processing Record 33 of Set 9 | sabanalarga\n",
      "Processing Record 34 of Set 9 | kahului\n",
      "Processing Record 35 of Set 9 | charagua\n",
      "Processing Record 36 of Set 9 | juneau\n",
      "Processing Record 37 of Set 9 | ostrovnoy\n",
      "Processing Record 38 of Set 9 | kokoda\n",
      "City not found. Skipping...\n",
      "Processing Record 39 of Set 9 | rock springs\n",
      "Processing Record 40 of Set 9 | sabya\n",
      "Processing Record 41 of Set 9 | tabou\n",
      "Processing Record 42 of Set 9 | morondava\n",
      "Processing Record 43 of Set 9 | beyneu\n",
      "Processing Record 44 of Set 9 | bradford\n",
      "Processing Record 45 of Set 9 | grand gaube\n",
      "Processing Record 46 of Set 9 | sumbe\n",
      "Processing Record 47 of Set 9 | guozhen\n",
      "Processing Record 48 of Set 9 | taicheng\n",
      "Processing Record 49 of Set 9 | juarez\n",
      "Processing Record 1 of Set 10 | omboue\n",
      "Processing Record 2 of Set 10 | plouzane\n",
      "Processing Record 3 of Set 10 | isfana\n",
      "Processing Record 4 of Set 10 | coronel mariduena\n",
      "Processing Record 5 of Set 10 | kiunga\n",
      "Processing Record 6 of Set 10 | harper\n",
      "Processing Record 7 of Set 10 | abu dhabi\n",
      "Processing Record 8 of Set 10 | zhigansk\n",
      "Processing Record 9 of Set 10 | paita\n",
      "Processing Record 10 of Set 10 | chinhoyi\n",
      "Processing Record 11 of Set 10 | puno\n",
      "Processing Record 12 of Set 10 | utrecht\n",
      "Processing Record 13 of Set 10 | kingsport\n",
      "Processing Record 14 of Set 10 | huaiyuan\n",
      "Processing Record 15 of Set 10 | laguna\n",
      "Processing Record 16 of Set 10 | vawkavysk\n",
      "Processing Record 17 of Set 10 | asau\n",
      "Processing Record 18 of Set 10 | homer\n",
      "Processing Record 19 of Set 10 | paka\n",
      "City not found. Skipping...\n",
      "City not found. Skipping...\n",
      "Processing Record 20 of Set 10 | auki\n",
      "Processing Record 21 of Set 10 | sao desiderio\n",
      "Processing Record 22 of Set 10 | wilmington\n",
      "Processing Record 23 of Set 10 | shenjiamen\n",
      "Processing Record 24 of Set 10 | buriti dos lopes\n",
      "Processing Record 25 of Set 10 | labrea\n",
      "Processing Record 26 of Set 10 | lobva\n",
      "Processing Record 27 of Set 10 | nouadhibou\n",
      "Processing Record 28 of Set 10 | cuiluan\n",
      "Processing Record 29 of Set 10 | puerto narino\n",
      "Processing Record 30 of Set 10 | lubango\n",
      "Processing Record 31 of Set 10 | najran\n",
      "Processing Record 32 of Set 10 | shingu\n",
      "Processing Record 33 of Set 10 | ushirombo\n",
      "Processing Record 34 of Set 10 | pulaski\n",
      "Processing Record 35 of Set 10 | joensuu\n",
      "Processing Record 36 of Set 10 | mitu\n",
      "Processing Record 37 of Set 10 | rundu\n",
      "Processing Record 38 of Set 10 | bulgan\n",
      "Processing Record 39 of Set 10 | marinette\n",
      "Processing Record 40 of Set 10 | topeka\n",
      "City not found. Skipping...\n",
      "Processing Record 41 of Set 10 | chara\n",
      "Processing Record 42 of Set 10 | carbonia\n",
      "Processing Record 43 of Set 10 | dzhebariki-khaya\n",
      "Processing Record 44 of Set 10 | mahanoro\n",
      "Processing Record 45 of Set 10 | pandharpur\n",
      "Processing Record 46 of Set 10 | tibu\n",
      "Processing Record 47 of Set 10 | union\n",
      "Processing Record 48 of Set 10 | kushima\n",
      "Processing Record 49 of Set 10 | rock sound\n",
      "Processing Record 1 of Set 11 | grand centre\n",
      "Processing Record 2 of Set 11 | zapolyarnyy\n",
      "Processing Record 3 of Set 11 | alta floresta\n",
      "Processing Record 4 of Set 11 | otofuke\n",
      "City not found. Skipping...\n",
      "Processing Record 5 of Set 11 | koumac\n",
      "Processing Record 6 of Set 11 | lerwick\n",
      "Processing Record 7 of Set 11 | guaymango\n",
      "Processing Record 8 of Set 11 | emet\n",
      "Processing Record 9 of Set 11 | maragogi\n",
      "Processing Record 10 of Set 11 | fukue\n",
      "City not found. Skipping...\n",
      "City not found. Skipping...\n",
      "Processing Record 11 of Set 11 | kos\n",
      "Processing Record 12 of Set 11 | irbeyskoye\n",
      "Processing Record 13 of Set 11 | mezhdurechenskiy\n",
      "Processing Record 14 of Set 11 | viedma\n",
      "Processing Record 15 of Set 11 | meadow lake\n",
      "Processing Record 16 of Set 11 | karlshamn\n",
      "Processing Record 17 of Set 11 | stara zagora\n",
      "City not found. Skipping...\n",
      "Processing Record 18 of Set 11 | pundaguitan\n",
      "Processing Record 19 of Set 11 | guatire\n",
      "Processing Record 20 of Set 11 | katherine\n",
      "Processing Record 21 of Set 11 | vitim\n",
      "Processing Record 22 of Set 11 | port-gentil\n",
      "Processing Record 23 of Set 11 | boa vista\n",
      "Processing Record 24 of Set 11 | banjar\n",
      "Processing Record 25 of Set 11 | jumla\n",
      "Processing Record 26 of Set 11 | sembe\n",
      "Processing Record 27 of Set 11 | pitimbu\n",
      "Processing Record 28 of Set 11 | lavrentiya\n",
      "Processing Record 29 of Set 11 | luangwa\n",
      "City not found. Skipping...\n",
      "Processing Record 30 of Set 11 | masalli\n",
      "Processing Record 31 of Set 11 | socorro\n",
      "City not found. Skipping...\n",
      "Processing Record 32 of Set 11 | nigde\n",
      "Processing Record 33 of Set 11 | pueblo nuevo\n",
      "Processing Record 34 of Set 11 | khani\n",
      "Processing Record 35 of Set 11 | luoyang\n",
      "Processing Record 36 of Set 11 | puerto carreno\n",
      "Processing Record 37 of Set 11 | sambava\n",
      "Processing Record 38 of Set 11 | liverpool\n",
      "Processing Record 39 of Set 11 | santa isabel do rio negro\n",
      "Processing Record 40 of Set 11 | vadodara\n",
      "Processing Record 41 of Set 11 | usinsk\n",
      "Processing Record 42 of Set 11 | dashitou\n",
      "Processing Record 43 of Set 11 | aripuana\n",
      "Processing Record 44 of Set 11 | mehnagar\n",
      "Processing Record 45 of Set 11 | sibolga\n",
      "Processing Record 46 of Set 11 | baijiantan\n",
      "Processing Record 47 of Set 11 | novikovo\n",
      "Processing Record 48 of Set 11 | matara\n",
      "Processing Record 49 of Set 11 | kinablangan\n",
      "Processing Record 1 of Set 12 | caceres\n",
      "Processing Record 2 of Set 12 | tomatlan\n",
      "Processing Record 3 of Set 12 | konstantinovo\n",
      "Processing Record 4 of Set 12 | ampanihy\n",
      "City not found. Skipping...\n",
      "City not found. Skipping...\n",
      "Processing Record 5 of Set 12 | port keats\n",
      "Processing Record 6 of Set 12 | honggang\n",
      "Processing Record 7 of Set 12 | champerico\n",
      "Processing Record 8 of Set 12 | san vicente\n",
      "-----------------------------\n",
      "Data Retrieval Complete\n",
      "-----------------------------\n"
     ]
    }
   ],
   "source": [
    "count_one = 0\n",
    "count_two = 1\n",
    "\n",
    "lats = []\n",
    "lngs = []\n",
    "max_temps = []\n",
    "wind_speeds = []\n",
    "countries = []\n",
    "cityname = []\n",
    "cloudinesses = []\n",
    "dates = []\n",
    "humidities = []\n",
    "\n",
    "for city in cities:\n",
    "    try:\n",
    "        response = requests.get(query_url + city.replace(\" \",\"&\")).json()\n",
    "        lats.append(response[\"coord\"][\"lat\"])\n",
    "        lngs.append(response[\"coord\"][\"lon\"])\n",
    "        max_temps.append(response[\"main\"][\"temp_max\"])\n",
    "        wind_speeds.append(response[\"wind\"][\"speed\"])\n",
    "        cloudinesses.append(response[\"clouds\"][\"all\"])\n",
    "        countries.append(response[\"sys\"][\"country\"])\n",
    "        dates.append(response[\"dt\"])\n",
    "        humidities.append(response[\"main\"][\"humidity\"])\n",
    "\n",
    "        if count_one > 48:\n",
    "            count_one = 1\n",
    "            count_two += 1\n",
    "            cityname.append(city)\n",
    "        else:\n",
    "            count_one += 1\n",
    "            cityname.append(city)\n",
    "        print(f\"Processing Record {count_one} of Set {count_two} | {city}\")\n",
    "    except Exception:\n",
    "        print(\"City not found. Skipping...\")\n",
    "print(\"-----------------------------\")\n",
    "print(\"Data Retrieval Complete\")\n",
    "print(\"-----------------------------\")"
   ]
  },
  {
   "cell_type": "markdown",
   "metadata": {},
   "source": [
    "### Convert Raw Data to DataFrame\n",
    "* Export the city data into a .csv.\n",
    "* Display the DataFrame"
   ]
  },
  {
   "cell_type": "code",
   "execution_count": 10,
   "metadata": {},
   "outputs": [
    {
     "data": {
      "text/plain": [
       "City          547\n",
       "Cloudiness    547\n",
       "Country       547\n",
       "Date          547\n",
       "Humidity      547\n",
       "Lat           547\n",
       "Lng           547\n",
       "Max Temp      547\n",
       "Wind Speed    547\n",
       "dtype: int64"
      ]
     },
     "execution_count": 10,
     "metadata": {},
     "output_type": "execute_result"
    }
   ],
   "source": [
    "weather_df = {\"City\":cityname, \"Cloudiness\":cloudinesses, \"Country\":countries, \"Date\":dates, \"Humidity\":humidities, \n",
    "               \"Lat\":lats, \"Lng\":lngs, \"Max Temp\":max_temps, \"Wind Speed\":wind_speeds}\n",
    "weather_df = pd.DataFrame(weather_df)\n",
    "weather_df.count()"
   ]
  },
  {
   "cell_type": "markdown",
   "metadata": {},
   "source": [
    "## Inspect the data and remove the cities where the humidity > 100%.\n",
    "----\n",
    "Skip this step if there are no cities that have humidity > 100%. "
   ]
  },
  {
   "cell_type": "code",
   "execution_count": 11,
   "metadata": {
    "scrolled": true
   },
   "outputs": [
    {
     "data": {
      "text/html": [
       "<div>\n",
       "<style scoped>\n",
       "    .dataframe tbody tr th:only-of-type {\n",
       "        vertical-align: middle;\n",
       "    }\n",
       "\n",
       "    .dataframe tbody tr th {\n",
       "        vertical-align: top;\n",
       "    }\n",
       "\n",
       "    .dataframe thead th {\n",
       "        text-align: right;\n",
       "    }\n",
       "</style>\n",
       "<table border=\"1\" class=\"dataframe\">\n",
       "  <thead>\n",
       "    <tr style=\"text-align: right;\">\n",
       "      <th></th>\n",
       "      <th>City</th>\n",
       "      <th>Cloudiness</th>\n",
       "      <th>Country</th>\n",
       "      <th>Date</th>\n",
       "      <th>Humidity</th>\n",
       "      <th>Lat</th>\n",
       "      <th>Lng</th>\n",
       "      <th>Max Temp</th>\n",
       "      <th>Wind Speed</th>\n",
       "    </tr>\n",
       "  </thead>\n",
       "  <tbody>\n",
       "    <tr>\n",
       "      <th>0</th>\n",
       "      <td>rikitea</td>\n",
       "      <td>48</td>\n",
       "      <td>PF</td>\n",
       "      <td>1593567711</td>\n",
       "      <td>62</td>\n",
       "      <td>-23.12</td>\n",
       "      <td>-134.97</td>\n",
       "      <td>69.33</td>\n",
       "      <td>17.07</td>\n",
       "    </tr>\n",
       "    <tr>\n",
       "      <th>1</th>\n",
       "      <td>luderitz</td>\n",
       "      <td>0</td>\n",
       "      <td>NA</td>\n",
       "      <td>1593567711</td>\n",
       "      <td>21</td>\n",
       "      <td>-26.65</td>\n",
       "      <td>15.16</td>\n",
       "      <td>62.60</td>\n",
       "      <td>5.82</td>\n",
       "    </tr>\n",
       "    <tr>\n",
       "      <th>2</th>\n",
       "      <td>qaanaaq</td>\n",
       "      <td>0</td>\n",
       "      <td>GL</td>\n",
       "      <td>1593567711</td>\n",
       "      <td>74</td>\n",
       "      <td>77.48</td>\n",
       "      <td>-69.36</td>\n",
       "      <td>38.89</td>\n",
       "      <td>2.15</td>\n",
       "    </tr>\n",
       "    <tr>\n",
       "      <th>3</th>\n",
       "      <td>bluff</td>\n",
       "      <td>100</td>\n",
       "      <td>NZ</td>\n",
       "      <td>1593567711</td>\n",
       "      <td>74</td>\n",
       "      <td>-46.60</td>\n",
       "      <td>168.33</td>\n",
       "      <td>45.52</td>\n",
       "      <td>10.04</td>\n",
       "    </tr>\n",
       "    <tr>\n",
       "      <th>4</th>\n",
       "      <td>sur</td>\n",
       "      <td>36</td>\n",
       "      <td>OM</td>\n",
       "      <td>1593567711</td>\n",
       "      <td>80</td>\n",
       "      <td>22.57</td>\n",
       "      <td>59.53</td>\n",
       "      <td>81.77</td>\n",
       "      <td>11.34</td>\n",
       "    </tr>\n",
       "    <tr>\n",
       "      <th>...</th>\n",
       "      <td>...</td>\n",
       "      <td>...</td>\n",
       "      <td>...</td>\n",
       "      <td>...</td>\n",
       "      <td>...</td>\n",
       "      <td>...</td>\n",
       "      <td>...</td>\n",
       "      <td>...</td>\n",
       "      <td>...</td>\n",
       "    </tr>\n",
       "    <tr>\n",
       "      <th>542</th>\n",
       "      <td>ampanihy</td>\n",
       "      <td>57</td>\n",
       "      <td>MG</td>\n",
       "      <td>1593567811</td>\n",
       "      <td>88</td>\n",
       "      <td>-24.70</td>\n",
       "      <td>44.75</td>\n",
       "      <td>60.60</td>\n",
       "      <td>6.44</td>\n",
       "    </tr>\n",
       "    <tr>\n",
       "      <th>543</th>\n",
       "      <td>port keats</td>\n",
       "      <td>9</td>\n",
       "      <td>CD</td>\n",
       "      <td>1593567718</td>\n",
       "      <td>50</td>\n",
       "      <td>-7.03</td>\n",
       "      <td>29.76</td>\n",
       "      <td>72.32</td>\n",
       "      <td>5.28</td>\n",
       "    </tr>\n",
       "    <tr>\n",
       "      <th>544</th>\n",
       "      <td>honggang</td>\n",
       "      <td>22</td>\n",
       "      <td>CN</td>\n",
       "      <td>1593567812</td>\n",
       "      <td>45</td>\n",
       "      <td>46.47</td>\n",
       "      <td>124.87</td>\n",
       "      <td>80.58</td>\n",
       "      <td>10.13</td>\n",
       "    </tr>\n",
       "    <tr>\n",
       "      <th>545</th>\n",
       "      <td>champerico</td>\n",
       "      <td>100</td>\n",
       "      <td>GT</td>\n",
       "      <td>1593567812</td>\n",
       "      <td>78</td>\n",
       "      <td>14.30</td>\n",
       "      <td>-91.92</td>\n",
       "      <td>81.07</td>\n",
       "      <td>3.53</td>\n",
       "    </tr>\n",
       "    <tr>\n",
       "      <th>546</th>\n",
       "      <td>san vicente</td>\n",
       "      <td>100</td>\n",
       "      <td>ML</td>\n",
       "      <td>1593567812</td>\n",
       "      <td>57</td>\n",
       "      <td>13.30</td>\n",
       "      <td>-4.90</td>\n",
       "      <td>85.28</td>\n",
       "      <td>8.03</td>\n",
       "    </tr>\n",
       "  </tbody>\n",
       "</table>\n",
       "<p>547 rows × 9 columns</p>\n",
       "</div>"
      ],
      "text/plain": [
       "            City  Cloudiness Country        Date  Humidity    Lat     Lng  \\\n",
       "0        rikitea          48      PF  1593567711        62 -23.12 -134.97   \n",
       "1       luderitz           0      NA  1593567711        21 -26.65   15.16   \n",
       "2        qaanaaq           0      GL  1593567711        74  77.48  -69.36   \n",
       "3          bluff         100      NZ  1593567711        74 -46.60  168.33   \n",
       "4            sur          36      OM  1593567711        80  22.57   59.53   \n",
       "..           ...         ...     ...         ...       ...    ...     ...   \n",
       "542     ampanihy          57      MG  1593567811        88 -24.70   44.75   \n",
       "543   port keats           9      CD  1593567718        50  -7.03   29.76   \n",
       "544     honggang          22      CN  1593567812        45  46.47  124.87   \n",
       "545   champerico         100      GT  1593567812        78  14.30  -91.92   \n",
       "546  san vicente         100      ML  1593567812        57  13.30   -4.90   \n",
       "\n",
       "     Max Temp  Wind Speed  \n",
       "0       69.33       17.07  \n",
       "1       62.60        5.82  \n",
       "2       38.89        2.15  \n",
       "3       45.52       10.04  \n",
       "4       81.77       11.34  \n",
       "..        ...         ...  \n",
       "542     60.60        6.44  \n",
       "543     72.32        5.28  \n",
       "544     80.58       10.13  \n",
       "545     81.07        3.53  \n",
       "546     85.28        8.03  \n",
       "\n",
       "[547 rows x 9 columns]"
      ]
     },
     "execution_count": 11,
     "metadata": {},
     "output_type": "execute_result"
    }
   ],
   "source": [
    "weather_df.loc[weather_df[\"Humidity\"] <= 100]"
   ]
  },
  {
   "cell_type": "code",
   "execution_count": null,
   "metadata": {},
   "outputs": [],
   "source": [
    "#  Get the indices of cities that have humidity over 100%.\n",
    "\n",
    "# There are no cities with humidity > 100%"
   ]
  },
  {
   "cell_type": "code",
   "execution_count": 12,
   "metadata": {},
   "outputs": [
    {
     "data": {
      "text/html": [
       "<div>\n",
       "<style scoped>\n",
       "    .dataframe tbody tr th:only-of-type {\n",
       "        vertical-align: middle;\n",
       "    }\n",
       "\n",
       "    .dataframe tbody tr th {\n",
       "        vertical-align: top;\n",
       "    }\n",
       "\n",
       "    .dataframe thead th {\n",
       "        text-align: right;\n",
       "    }\n",
       "</style>\n",
       "<table border=\"1\" class=\"dataframe\">\n",
       "  <thead>\n",
       "    <tr style=\"text-align: right;\">\n",
       "      <th></th>\n",
       "      <th>City</th>\n",
       "      <th>Cloudiness</th>\n",
       "      <th>Country</th>\n",
       "      <th>Date</th>\n",
       "      <th>Humidity</th>\n",
       "      <th>Lat</th>\n",
       "      <th>Lng</th>\n",
       "      <th>Max Temp</th>\n",
       "      <th>Wind Speed</th>\n",
       "    </tr>\n",
       "  </thead>\n",
       "  <tbody>\n",
       "    <tr>\n",
       "      <th>0</th>\n",
       "      <td>rikitea</td>\n",
       "      <td>48</td>\n",
       "      <td>PF</td>\n",
       "      <td>1593567711</td>\n",
       "      <td>62</td>\n",
       "      <td>-23.12</td>\n",
       "      <td>-134.97</td>\n",
       "      <td>69.33</td>\n",
       "      <td>17.07</td>\n",
       "    </tr>\n",
       "    <tr>\n",
       "      <th>1</th>\n",
       "      <td>luderitz</td>\n",
       "      <td>0</td>\n",
       "      <td>NA</td>\n",
       "      <td>1593567711</td>\n",
       "      <td>21</td>\n",
       "      <td>-26.65</td>\n",
       "      <td>15.16</td>\n",
       "      <td>62.60</td>\n",
       "      <td>5.82</td>\n",
       "    </tr>\n",
       "    <tr>\n",
       "      <th>2</th>\n",
       "      <td>qaanaaq</td>\n",
       "      <td>0</td>\n",
       "      <td>GL</td>\n",
       "      <td>1593567711</td>\n",
       "      <td>74</td>\n",
       "      <td>77.48</td>\n",
       "      <td>-69.36</td>\n",
       "      <td>38.89</td>\n",
       "      <td>2.15</td>\n",
       "    </tr>\n",
       "    <tr>\n",
       "      <th>3</th>\n",
       "      <td>bluff</td>\n",
       "      <td>100</td>\n",
       "      <td>NZ</td>\n",
       "      <td>1593567711</td>\n",
       "      <td>74</td>\n",
       "      <td>-46.60</td>\n",
       "      <td>168.33</td>\n",
       "      <td>45.52</td>\n",
       "      <td>10.04</td>\n",
       "    </tr>\n",
       "    <tr>\n",
       "      <th>4</th>\n",
       "      <td>sur</td>\n",
       "      <td>36</td>\n",
       "      <td>OM</td>\n",
       "      <td>1593567711</td>\n",
       "      <td>80</td>\n",
       "      <td>22.57</td>\n",
       "      <td>59.53</td>\n",
       "      <td>81.77</td>\n",
       "      <td>11.34</td>\n",
       "    </tr>\n",
       "  </tbody>\n",
       "</table>\n",
       "</div>"
      ],
      "text/plain": [
       "       City  Cloudiness Country        Date  Humidity    Lat     Lng  \\\n",
       "0   rikitea          48      PF  1593567711        62 -23.12 -134.97   \n",
       "1  luderitz           0      NA  1593567711        21 -26.65   15.16   \n",
       "2   qaanaaq           0      GL  1593567711        74  77.48  -69.36   \n",
       "3     bluff         100      NZ  1593567711        74 -46.60  168.33   \n",
       "4       sur          36      OM  1593567711        80  22.57   59.53   \n",
       "\n",
       "   Max Temp  Wind Speed  \n",
       "0     69.33       17.07  \n",
       "1     62.60        5.82  \n",
       "2     38.89        2.15  \n",
       "3     45.52       10.04  \n",
       "4     81.77       11.34  "
      ]
     },
     "execution_count": 12,
     "metadata": {},
     "output_type": "execute_result"
    }
   ],
   "source": [
    "# Make a new DataFrame equal to the city data to drop all humidity outliers by index.\n",
    "# Passing \"inplace=False\" will make a copy of the city_data DataFrame, which we call \"clean_city_data\".\n",
    "clean_city_data = weather_df.copy()\n",
    "clean_city_data.head()"
   ]
  },
  {
   "cell_type": "code",
   "execution_count": 11,
   "metadata": {},
   "outputs": [],
   "source": [
    "# Extract relevant fields from the data frame\n",
    "\n",
    "\n",
    "# Export the City_Data into a csv\n",
    "clean_city_data.to_csv(output_data_file)"
   ]
  },
  {
   "cell_type": "markdown",
   "metadata": {},
   "source": [
    "## Plotting the Data\n",
    "* Use proper labeling of the plots using plot titles (including date of analysis) and axes labels.\n",
    "* Save the plotted figures as .pngs."
   ]
  },
  {
   "cell_type": "markdown",
   "metadata": {},
   "source": [
    "## Latitude vs. Temperature Plot"
   ]
  },
  {
   "cell_type": "code",
   "execution_count": 13,
   "metadata": {
    "scrolled": true
   },
   "outputs": [
    {
     "data": {
      "image/png": "[encoded data removed]",
      "text/plain": [
       "<Figure size 576x360 with 1 Axes>"
      ]
     },
     "metadata": {
      "needs_background": "light"
     },
     "output_type": "display_data"
    }
   ],
   "source": [
    "clean_city_data.plot(kind=\"scatter\", x=\"Lat\", y=\"Max Temp\", grid=True, figsize=(8,5),\n",
    "                     title=\"City Latitude vs. Max Temperature\")\n",
    "plt.show()"
   ]
  },
  {
   "cell_type": "markdown",
   "metadata": {},
   "source": [
    "## Latitude vs. Humidity Plot"
   ]
  },
  {
   "cell_type": "code",
   "execution_count": 14,
   "metadata": {},
   "outputs": [
    {
     "data": {
      "image/png": "[encoded data removed]",
      "text/plain": [
       "<Figure size 576x360 with 1 Axes>"
      ]
     },
     "metadata": {
      "needs_background": "light"
     },
     "output_type": "display_data"
    }
   ],
   "source": [
    "clean_city_data.plot(kind=\"scatter\", x=\"Lat\", y=\"Humidity\", grid=True, figsize=(8,5),\n",
    "              title=\"City Latitude vs. Humidity\")\n",
    "plt.show()"
   ]
  },
  {
   "cell_type": "markdown",
   "metadata": {},
   "source": [
    "## Latitude vs. Cloudiness Plot"
   ]
  },
  {
   "cell_type": "code",
   "execution_count": 15,
   "metadata": {},
   "outputs": [
    {
     "data": {
      "image/png": "[encoded data removed]",
      "text/plain": [
       "<Figure size 576x360 with 1 Axes>"
      ]
     },
     "metadata": {
      "needs_background": "light"
     },
     "output_type": "display_data"
    }
   ],
   "source": [
    "clean_city_data.plot(kind=\"scatter\", x=\"Lat\", y=\"Cloudiness\", grid=True, figsize=(8,5),\n",
    "              title=\"City Latitude vs. Cloudiness\")\n",
    "plt.show()"
   ]
  },
  {
   "cell_type": "markdown",
   "metadata": {},
   "source": [
    "## Latitude vs. Wind Speed Plot"
   ]
  },
  {
   "cell_type": "code",
   "execution_count": 16,
   "metadata": {},
   "outputs": [
    {
     "data": {
      "image/png": "[encoded data removed]",
      "text/plain": [
       "<Figure size 576x360 with 1 Axes>"
      ]
     },
     "metadata": {
      "needs_background": "light"
     },
     "output_type": "display_data"
    }
   ],
   "source": [
    "clean_city_data.plot(kind=\"scatter\", x=\"Lat\", y=\"Wind Speed\", grid=True, figsize=(8,5),\n",
    "              title=\"City Latitude vs. Wind Speed\")\n",
    "plt.show()"
   ]
  },
  {
   "cell_type": "markdown",
   "metadata": {},
   "source": [
    "## Linear Regression"
   ]
  },
  {
   "cell_type": "code",
   "execution_count": null,
   "metadata": {},
   "outputs": [],
   "source": [
    "# OPTIONAL: Create a function to create Linear Regression plots"
   ]
  },
  {
   "cell_type": "code",
   "execution_count": 17,
   "metadata": {},
   "outputs": [],
   "source": [
    "# Create Northern and Southern Hemisphere DataFrames\n",
    "north_df = clean_city_data.loc[clean_city_data[\"Lat\"] > 0]\n",
    "\n",
    "south_df = clean_city_data.loc[clean_city_data[\"Lat\"] < 0]"
   ]
  },
  {
   "cell_type": "markdown",
   "metadata": {},
   "source": [
    "####  Northern Hemisphere - Max Temp vs. Latitude Linear Regression"
   ]
  },
  {
   "cell_type": "code",
   "execution_count": 18,
   "metadata": {},
   "outputs": [
    {
     "name": "stdout",
     "output_type": "stream",
     "text": [
      "The r-squared is: 0.4794625002215834\n"
     ]
    },
    {
     "data": {
      "image/png": "[encoded data removed]",
      "text/plain": [
       "<Figure size 432x288 with 1 Axes>"
      ]
     },
     "metadata": {
      "needs_background": "light"
     },
     "output_type": "display_data"
    }
   ],
   "source": [
    "x_values = north_df['Lat']\n",
    "y_values = north_df['Max Temp']\n",
    "(slope, intercept, rvalue, pvalue, stderr) = linregress(x_values, y_values)\n",
    "regress_values = x_values * slope + intercept\n",
    "line_eq = \"y = \" + str(round(slope,2)) + \"x + \" + str(round(intercept,2))\n",
    "plt.scatter(x_values,y_values)\n",
    "plt.plot(x_values,regress_values,\"r-\")\n",
    "plt.annotate(line_eq,(10,40),fontsize=15,color=\"red\")\n",
    "plt.xlabel('Latitude')\n",
    "plt.ylabel('Max Temp')\n",
    "print(f\"The r-squared is: {rvalue**2}\")\n",
    "plt.show()"
   ]
  },
  {
   "cell_type": "markdown",
   "metadata": {},
   "source": [
    "####  Southern Hemisphere - Max Temp vs. Latitude Linear Regression"
   ]
  },
  {
   "cell_type": "code",
   "execution_count": 19,
   "metadata": {},
   "outputs": [
    {
     "name": "stdout",
     "output_type": "stream",
     "text": [
      "The r-squared is: 0.6262859854371141\n"
     ]
    },
    {
     "data": {
      "image/png": "[encoded data removed]",
      "text/plain": [
       "<Figure size 432x288 with 1 Axes>"
      ]
     },
     "metadata": {
      "needs_background": "light"
     },
     "output_type": "display_data"
    }
   ],
   "source": [
    "x_values = south_df['Lat']\n",
    "y_values = south_df['Max Temp']\n",
    "(slope, intercept, rvalue, pvalue, stderr) = linregress(x_values, y_values)\n",
    "regress_values = x_values * slope + intercept\n",
    "line_eq = \"y = \" + str(round(slope,2)) + \"x + \" + str(round(intercept,2))\n",
    "plt.scatter(x_values,y_values)\n",
    "plt.plot(x_values,regress_values,\"r-\")\n",
    "plt.annotate(line_eq,(-30,30),fontsize=15,color=\"red\")\n",
    "plt.xlabel('Latitude')\n",
    "plt.ylabel('Max Temp')\n",
    "print(f\"The r-squared is: {rvalue**2}\")\n",
    "plt.show()"
   ]
  },
  {
   "cell_type": "markdown",
   "metadata": {},
   "source": [
    "####  Northern Hemisphere - Humidity (%) vs. Latitude Linear Regression"
   ]
  },
  {
   "cell_type": "code",
   "execution_count": 33,
   "metadata": {},
   "outputs": [
    {
     "name": "stdout",
     "output_type": "stream",
     "text": [
      "The r-squared is: 7.843719538359194e-05\n"
     ]
    },
    {
     "data": {
      "image/png": "[encoded data removed]",
      "text/plain": [
       "<Figure size 432x288 with 1 Axes>"
      ]
     },
     "metadata": {
      "needs_background": "light"
     },
     "output_type": "display_data"
    }
   ],
   "source": [
    "x_values = north_df['Lat']\n",
    "y_values = north_df['Humidity']\n",
    "(slope, intercept, rvalue, pvalue, stderr) = linregress(x_values, y_values)\n",
    "regress_values = x_values * slope + intercept\n",
    "line_eq = \"y = \" + str(round(slope,2)) + \"x + \" + str(round(intercept,2))\n",
    "plt.scatter(x_values,y_values)\n",
    "plt.plot(x_values,regress_values,\"r-\")\n",
    "plt.annotate(line_eq,(6,10),fontsize=15,color=\"red\")\n",
    "plt.xlabel('Latitude')\n",
    "plt.ylabel('Humidity')\n",
    "print(f\"The r-squared is: {rvalue**2}\")\n",
    "plt.show()"
   ]
  },
  {
   "cell_type": "markdown",
   "metadata": {},
   "source": [
    "####  Southern Hemisphere - Humidity (%) vs. Latitude Linear Regression"
   ]
  },
  {
   "cell_type": "code",
   "execution_count": 20,
   "metadata": {},
   "outputs": [
    {
     "name": "stdout",
     "output_type": "stream",
     "text": [
      "The r-squared is: 0.001986135779897541\n"
     ]
    },
    {
     "data": {
      "image/png": "[encoded data removed]",
      "text/plain": [
       "<Figure size 432x288 with 1 Axes>"
      ]
     },
     "metadata": {
      "needs_background": "light"
     },
     "output_type": "display_data"
    }
   ],
   "source": [
    "x_values = south_df['Lat']\n",
    "y_values = south_df['Humidity']\n",
    "(slope, intercept, rvalue, pvalue, stderr) = linregress(x_values, y_values)\n",
    "regress_values = x_values * slope + intercept\n",
    "line_eq = \"y = \" + str(round(slope,2)) + \"x + \" + str(round(intercept,2))\n",
    "plt.scatter(x_values,y_values)\n",
    "plt.plot(x_values,regress_values,\"r-\")\n",
    "plt.annotate(line_eq,(-30,60),fontsize=15,color=\"red\")\n",
    "plt.xlabel('Latitude')\n",
    "plt.ylabel('Humididty')\n",
    "print(f\"The r-squared is: {rvalue**2}\")\n",
    "plt.show()"
   ]
  },
  {
   "cell_type": "markdown",
   "metadata": {},
   "source": [
    "####  Northern Hemisphere - Cloudiness (%) vs. Latitude Linear Regression"
   ]
  },
  {
   "cell_type": "code",
   "execution_count": 31,
   "metadata": {},
   "outputs": [
    {
     "name": "stdout",
     "output_type": "stream",
     "text": [
      "The r-squared is: 0.0008367534368771328\n"
     ]
    },
    {
     "data": {
      "image/png": "[encoded data removed]",
      "text/plain": [
       "<Figure size 432x288 with 1 Axes>"
      ]
     },
     "metadata": {
      "needs_background": "light"
     },
     "output_type": "display_data"
    }
   ],
   "source": [
    "x_values = north_df['Lat']\n",
    "y_values = north_df['Cloudiness']\n",
    "(slope, intercept, rvalue, pvalue, stderr) = linregress(x_values, y_values)\n",
    "regress_values = x_values * slope + intercept\n",
    "line_eq = \"y = \" + str(round(slope,2)) + \"x + \" + str(round(intercept,2))\n",
    "plt.scatter(x_values,y_values)\n",
    "plt.plot(x_values,regress_values,\"r-\")\n",
    "plt.annotate(line_eq,(6,10),fontsize=15,color=\"red\")\n",
    "plt.xlabel('Latitude')\n",
    "plt.ylabel('Cloudiness')\n",
    "print(f\"The r-squared is: {rvalue**2}\")\n",
    "plt.show()"
   ]
  },
  {
   "cell_type": "markdown",
   "metadata": {},
   "source": [
    "####  Southern Hemisphere - Cloudiness (%) vs. Latitude Linear Regression"
   ]
  },
  {
   "cell_type": "code",
   "execution_count": 21,
   "metadata": {},
   "outputs": [
    {
     "name": "stdout",
     "output_type": "stream",
     "text": [
      "The r-squared is: 0.05819311770767726\n"
     ]
    },
    {
     "data": {
      "image/png": "[encoded data removed]",
      "text/plain": [
       "<Figure size 432x288 with 1 Axes>"
      ]
     },
     "metadata": {
      "needs_background": "light"
     },
     "output_type": "display_data"
    }
   ],
   "source": [
    "x_values = south_df['Lat']\n",
    "y_values = south_df['Cloudiness']\n",
    "(slope, intercept, rvalue, pvalue, stderr) = linregress(x_values, y_values)\n",
    "regress_values = x_values * slope + intercept\n",
    "line_eq = \"y = \" + str(round(slope,2)) + \"x + \" + str(round(intercept,2))\n",
    "plt.scatter(x_values,y_values)\n",
    "plt.plot(x_values,regress_values,\"r-\")\n",
    "plt.annotate(line_eq,(-30,60),fontsize=15,color=\"red\")\n",
    "plt.xlabel('Latitude')\n",
    "plt.ylabel('Cloudiness')\n",
    "print(f\"The r-squared is: {rvalue**2}\")\n",
    "plt.show()"
   ]
  },
  {
   "cell_type": "markdown",
   "metadata": {},
   "source": [
    "####  Northern Hemisphere - Wind Speed (mph) vs. Latitude Linear Regression"
   ]
  },
  {
   "cell_type": "code",
   "execution_count": 29,
   "metadata": {},
   "outputs": [
    {
     "name": "stdout",
     "output_type": "stream",
     "text": [
      "The r-squared is: 0.022308154789731447\n"
     ]
    },
    {
     "data": {
      "image/png": "[encoded data removed]",
      "text/plain": [
       "<Figure size 432x288 with 1 Axes>"
      ]
     },
     "metadata": {
      "needs_background": "light"
     },
     "output_type": "display_data"
    }
   ],
   "source": [
    "x_values = north_df['Lat']\n",
    "y_values = north_df['Wind Speed']\n",
    "(slope, intercept, rvalue, pvalue, stderr) = linregress(x_values, y_values)\n",
    "regress_values = x_values * slope + intercept\n",
    "line_eq = \"y = \" + str(round(slope,2)) + \"x + \" + str(round(intercept,2))\n",
    "plt.scatter(x_values,y_values)\n",
    "plt.plot(x_values,regress_values,\"r-\")\n",
    "plt.annotate(line_eq,(6,10),fontsize=15,color=\"red\")\n",
    "plt.xlabel('Latitude')\n",
    "plt.ylabel('Wind Speed')\n",
    "print(f\"The r-squared is: {rvalue**2}\")\n",
    "plt.show()"
   ]
  },
  {
   "cell_type": "markdown",
   "metadata": {},
   "source": [
    "####  Southern Hemisphere - Wind Speed (mph) vs. Latitude Linear Regression"
   ]
  },
  {
   "cell_type": "code",
   "execution_count": 22,
   "metadata": {},
   "outputs": [
    {
     "name": "stdout",
     "output_type": "stream",
     "text": [
      "The r-squared is: 0.05383053106924593\n"
     ]
    },
    {
     "data": {
      "image/png": "[encoded data removed]",
      "text/plain": [
       "<Figure size 432x288 with 1 Axes>"
      ]
     },
     "metadata": {
      "needs_background": "light"
     },
     "output_type": "display_data"
    }
   ],
   "source": [
    "x_values = south_df['Lat']\n",
    "y_values = south_df['Wind Speed']\n",
    "(slope, intercept, rvalue, pvalue, stderr) = linregress(x_values, y_values)\n",
    "regress_values = x_values * slope + intercept\n",
    "line_eq = \"y = \" + str(round(slope,2)) + \"x + \" + str(round(intercept,2))\n",
    "plt.scatter(x_values,y_values)\n",
    "plt.plot(x_values,regress_values,\"r-\")\n",
    "plt.annotate(line_eq,(-40,20),fontsize=15,color=\"red\")\n",
    "plt.xlabel('Latitude')\n",
    "plt.ylabel('Wind Speed')\n",
    "print(f\"The r-squared is: {rvalue**2}\")\n",
    "plt.show()"
   ]
  },
  {
   "cell_type": "code",
   "execution_count": null,
   "metadata": {},
   "outputs": [],
   "source": []
  }
 ],
 "metadata": {
  "anaconda-cloud": {},
  "kernel_info": {
   "name": "python3"
  },
  "kernelspec": {
   "display_name": "Python 3",
   "language": "python",
   "name": "python3"
  },
  "language_info": {
   "codemirror_mode": {
    "name": "ipython",
    "version": 3
   },
   "file_extension": ".py",
   "mimetype": "text/x-python",
   "name": "python",
   "nbconvert_exporter": "python",
   "pygments_lexer": "ipython3",
   "version": "3.7.6"
  },
  "latex_envs": {
   "LaTeX_envs_menu_present": true,
   "autoclose": false,
   "autocomplete": true,
   "bibliofile": "biblio.bib",
   "cite_by": "apalike",
   "current_citInitial": 1,
   "eqLabelWithNumbers": true,
   "eqNumInitial": 1,
   "hotkeys": {
    "equation": "Ctrl-E",
    "itemize": "Ctrl-I"
   },
   "labels_anchors": false,
   "latex_user_defs": false,
   "report_style_numbering": false,
   "user_envs_cfg": false
  },
  "nteract": {
   "version": "0.12.3"
  }
 },
 "nbformat": 4,
 "nbformat_minor": 2
}
